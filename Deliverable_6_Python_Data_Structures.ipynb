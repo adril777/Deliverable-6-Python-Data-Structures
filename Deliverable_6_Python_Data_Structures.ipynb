{
  "nbformat": 4,
  "nbformat_minor": 0,
  "metadata": {
    "colab": {
      "provenance": [],
      "authorship_tag": "ABX9TyOlQYEScZk11Vziy89CK0Ii",
      "include_colab_link": true
    },
    "kernelspec": {
      "name": "python3",
      "display_name": "Python 3"
    },
    "language_info": {
      "name": "python"
    }
  },
  "cells": [
    {
      "cell_type": "markdown",
      "metadata": {
        "id": "view-in-github",
        "colab_type": "text"
      },
      "source": [
        "<a href=\"https://colab.research.google.com/github/adril777/Deliverable-6-Python-Data-Structures/blob/main/Deliverable_6_Python_Data_Structures.ipynb\" target=\"_parent\"><img src=\"https://colab.research.google.com/assets/colab-badge.svg\" alt=\"Open In Colab\"/></a>"
      ]
    },
    {
      "cell_type": "code",
      "execution_count": 1,
      "metadata": {
        "colab": {
          "base_uri": "https://localhost:8080/"
        },
        "id": "Z4il5lNtDNln",
        "outputId": "d36cde79-d6f2-406a-a1d8-93eba6aec295"
      },
      "outputs": [
        {
          "output_type": "stream",
          "name": "stdout",
          "text": [
            "     sepal_length  sepal_width  petal_length  petal_width  sepal_sum  \\\n",
            "0             5.1          3.5           1.4          0.2        8.6   \n",
            "1             4.9          3.0           1.4          0.2        7.9   \n",
            "2             4.7          3.2           1.3          0.2        7.9   \n",
            "3             4.6          3.1           1.5          0.2        7.7   \n",
            "4             5.0          3.6           1.4          0.2        8.6   \n",
            "..            ...          ...           ...          ...        ...   \n",
            "145           6.7          3.0           5.2          2.3        9.7   \n",
            "146           6.3          2.5           5.0          1.9        8.8   \n",
            "147           6.5          3.0           5.2          2.0        9.5   \n",
            "148           6.2          3.4           5.4          2.3        9.6   \n",
            "149           5.9          3.0           5.1          1.8        8.9   \n",
            "\n",
            "     petal_sum  \n",
            "0          1.6  \n",
            "1          1.6  \n",
            "2          1.5  \n",
            "3          1.7  \n",
            "4          1.6  \n",
            "..         ...  \n",
            "145        7.5  \n",
            "146        6.9  \n",
            "147        7.2  \n",
            "148        7.7  \n",
            "149        6.9  \n",
            "\n",
            "[150 rows x 6 columns]\n",
            "                  mean       std  min   max\n",
            "sepal_length  5.843333  0.828066  4.3   7.9\n",
            "sepal_width   3.057333  0.435866  2.0   4.4\n",
            "sepal_sum     8.900667  0.889272  6.8  11.7\n",
            "petal_length  3.758000  1.765298  1.0   6.9\n",
            "petal_width   1.199333  0.762238  0.1   2.5\n",
            "petal_sum     4.957333  2.507689  1.2   9.2\n"
          ]
        }
      ],
      "source": [
        "import pandas as pd\n",
        "import numpy as np\n",
        "import seaborn as sns\n",
        "\n",
        "# Load the \"iris\" dataset and store it as a data frame\n",
        "iris = sns.load_dataset('iris')\n",
        "\n",
        "# Drop the \"species\" column in the iris data frame\n",
        "iris = iris.drop(\"species\", axis='columns')\n",
        "\n",
        "# add two new columns ,\"sepal_sum\" and \"petal_sum\"\n",
        "iris = iris.assign(sepal_sum = lambda x: x.sepal_length + x.sepal_width)\n",
        "iris = iris.assign(petal_sum = lambda x: x.petal_length + x.petal_width)\n",
        "\n",
        "# Create the modified iris dataset\n",
        "print(iris)\n",
        "\n",
        "# extracting summary from iris dataset\n",
        "data = {'mean': [], 'std': [], 'min': [], 'max': []}\n",
        "index = []\n",
        "for col in iris.columns:\n",
        "    index.append(col)\n",
        "    data['mean'].append(round(iris[col].mean(),6))\n",
        "    data['std'].append(round(iris[col].std(),6))\n",
        "    data['min'].append(round(iris[col].min(),6))\n",
        "    data['max'].append(round(iris[col].max(),6))\n",
        "\n",
        "# Rearrange data,'sepal_sum' comes at third place \n",
        "index.insert(2,index[-2])\n",
        "index.pop(-2)\n",
        "\n",
        "for key in data:\n",
        "    data[key].insert(2,data[key][-2])\n",
        "    data[key].pop(-2)\n",
        "\n",
        "new_df = pd.DataFrame(data, index)\n",
        "\n",
        "# Print the new data frame\n",
        "print(new_df)"
      ]
    }
  ]
}